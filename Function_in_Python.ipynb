{
 "cells": [
  {
   "cell_type": "markdown",
   "id": "015948e7",
   "metadata": {},
   "source": [
    "# Function in python"
   ]
  },
  {
   "cell_type": "markdown",
   "id": "94e2ad97",
   "metadata": {},
   "source": [
    "* Python Functions is a block of statements that return the specific task.\n",
    "* The idea is to put some commonly or repeatedly done tasks together and make a function so that instead of writing the same code again and again for different inputs, we can do the function calls to reuse code contained in it over and over again.\n",
    "\n",
    "* Some Benefits of Using Functions\n",
    "\n",
    "    * Increase Code Readability \n",
    "    * Increase Code Reusability\n",
    "* There are two steps in creating a function, defining a function and calling the function."
   ]
  },
  {
   "cell_type": "markdown",
   "id": "47e9c5dd",
   "metadata": {},
   "source": [
    "* syntax of defining a func\n",
    "\n",
    "    * def func_name(parameter/s):\n",
    "\n",
    "        * block of code"
   ]
  },
  {
   "cell_type": "markdown",
   "id": "041b213f",
   "metadata": {},
   "source": [
    "![](https://media.geeksforgeeks.org/wp-content/uploads/20220721172423/51.png)"
   ]
  },
  {
   "cell_type": "markdown",
   "id": "67585918",
   "metadata": {},
   "source": [
    "## Creating a Function"
   ]
  },
  {
   "cell_type": "markdown",
   "id": "98bac9fe",
   "metadata": {},
   "source": [
    "* We can create a user-defined function in Python, using the def keyword. We can add any type of functionalities and properties to it as we require.\n",
    "* def is a keyword, which tells the interpretor that we are defining a function."
   ]
  },
  {
   "cell_type": "markdown",
   "id": "bb801e51",
   "metadata": {},
   "source": [
    "## Parameter"
   ]
  },
  {
   "cell_type": "markdown",
   "id": "fc572b8d",
   "metadata": {},
   "source": [
    "* A parameter is the variable listed inside the parentheses in the function definition.\n",
    "* Parameter can be considered as the variables we use to write/define our function."
   ]
  },
  {
   "cell_type": "markdown",
   "id": "17139ad9",
   "metadata": {},
   "source": [
    "## Calling a function"
   ]
  },
  {
   "cell_type": "markdown",
   "id": "dba1b3c4",
   "metadata": {},
   "source": [
    "* After creating a function in Python we can call it by using the name of the function followed by parenthesis containing parameters of that particular function.\n",
    "* sytax for calling a function\n",
    "\n",
    "    * func_name(arg/s)\n",
    "* arg/s are actual inputs for function."
   ]
  },
  {
   "cell_type": "code",
   "execution_count": 1,
   "id": "6c717511",
   "metadata": {},
   "outputs": [],
   "source": [
    "def foosum(a,b):\n",
    "    print(a+b)"
   ]
  },
  {
   "cell_type": "code",
   "execution_count": 2,
   "id": "5d072a68",
   "metadata": {},
   "outputs": [
    {
     "name": "stdout",
     "output_type": "stream",
     "text": [
      "15\n"
     ]
    }
   ],
   "source": [
    "# we can call a function multiple times. \n",
    "\n",
    "foosum(5,10)                # 5,10  are  arguments"
   ]
  },
  {
   "cell_type": "code",
   "execution_count": 3,
   "id": "ed8a0eff",
   "metadata": {},
   "outputs": [],
   "source": [
    "def foosub(a,b):\n",
    "    print(a-b)"
   ]
  },
  {
   "cell_type": "code",
   "execution_count": 5,
   "id": "f667b19b",
   "metadata": {},
   "outputs": [
    {
     "name": "stdout",
     "output_type": "stream",
     "text": [
      "8\n"
     ]
    }
   ],
   "source": [
    "foosub(20,12)"
   ]
  },
  {
   "cell_type": "markdown",
   "id": "6dbf03ea",
   "metadata": {},
   "source": [
    "## Arguments\n",
    "* Arguments are the values passed inside the parenthesis of the function. A function can have any number of arguments separated by a comma.\n",
    "* arg/s are actual inputs for function.\n",
    "* Types of function arguments.\n",
    "\n",
    "    * Default argument\n",
    "    * Keyword arguments (named arguments)\n",
    "    * Positional arguments"
   ]
  },
  {
   "cell_type": "markdown",
   "id": "8baa0faf",
   "metadata": {},
   "source": [
    "### Positional Arguments\n",
    "* We used the Positional argument during the function call so that the first argument (or value) is assigned to name and the second argument (or value) is assigned to age.\n",
    "* By changing the position, or if you forget the order of the positions, the values can be used in the wrong places,"
   ]
  },
  {
   "cell_type": "code",
   "execution_count": 10,
   "id": "c682b179",
   "metadata": {},
   "outputs": [],
   "source": [
    "def foodivision(n,d):\n",
    "    print(n/d)"
   ]
  },
  {
   "cell_type": "code",
   "execution_count": 11,
   "id": "c9aa05a0",
   "metadata": {},
   "outputs": [
    {
     "name": "stdout",
     "output_type": "stream",
     "text": [
      "5.0\n"
     ]
    }
   ],
   "source": [
    "foodivision(20,4)"
   ]
  },
  {
   "cell_type": "code",
   "execution_count": 12,
   "id": "a4e09225",
   "metadata": {},
   "outputs": [
    {
     "name": "stdout",
     "output_type": "stream",
     "text": [
      "0.2\n"
     ]
    }
   ],
   "source": [
    "foodivision(4,20)     # when we give n=2 and d=10 so the output is not correct."
   ]
  },
  {
   "cell_type": "markdown",
   "id": "0ff8a7e2",
   "metadata": {},
   "source": [
    "### Keyword Arguments\n",
    "* The idea is to allow the caller to specify the argument name with values so that the caller does not need to remember the order of parameters."
   ]
  },
  {
   "cell_type": "code",
   "execution_count": 13,
   "id": "0296c61e",
   "metadata": {},
   "outputs": [],
   "source": [
    "def foosum(a,b):\n",
    "    print(a+b)"
   ]
  },
  {
   "cell_type": "code",
   "execution_count": 14,
   "id": "290379f1",
   "metadata": {},
   "outputs": [
    {
     "name": "stdout",
     "output_type": "stream",
     "text": [
      "30\n"
     ]
    }
   ],
   "source": [
    "foosum(a=10, b=20)"
   ]
  },
  {
   "cell_type": "code",
   "execution_count": 15,
   "id": "5e02a114",
   "metadata": {},
   "outputs": [
    {
     "name": "stdout",
     "output_type": "stream",
     "text": [
      "150\n"
     ]
    }
   ],
   "source": [
    "foosum(a=90, b=60)"
   ]
  },
  {
   "cell_type": "markdown",
   "id": "8e0bae3c",
   "metadata": {},
   "source": [
    "### Default Arguments\n",
    "* A default argument is a parameter that assumes a default value if a value is not provided in the function call for that argument."
   ]
  },
  {
   "cell_type": "code",
   "execution_count": 16,
   "id": "64ecc394",
   "metadata": {},
   "outputs": [],
   "source": [
    "def fooPotentialEnergy(m,h,g=9.8):  \n",
    "    print(m*h*g)"
   ]
  },
  {
   "cell_type": "code",
   "execution_count": 17,
   "id": "ce1c2929",
   "metadata": {},
   "outputs": [
    {
     "name": "stdout",
     "output_type": "stream",
     "text": [
      "1960.0000000000002\n"
     ]
    }
   ],
   "source": [
    "fooPotentialEnergy(10,20)   # g is default argument,when only m,h value we give."
   ]
  },
  {
   "cell_type": "code",
   "execution_count": 18,
   "id": "80b6f814",
   "metadata": {},
   "outputs": [
    {
     "name": "stdout",
     "output_type": "stream",
     "text": [
      "2000\n"
     ]
    }
   ],
   "source": [
    "fooPotentialEnergy(10,20,10)  # if we give m,h,g value the default value will replace."
   ]
  },
  {
   "cell_type": "markdown",
   "id": "940108c7",
   "metadata": {},
   "source": [
    "## Documentation Strings"
   ]
  },
  {
   "cell_type": "markdown",
   "id": "749b0356",
   "metadata": {},
   "source": [
    "* Python documentation strings (or docstrings) provide a convenient way of associating documentation with Python modules, functions, classes, and methods. \n",
    "* It’s specified in source code that is used, like a comment, to document a specific segment of code. Unlike conventional source code comments, the docstring should describe what the function does, not how.\n"
   ]
  },
  {
   "cell_type": "markdown",
   "id": "c5484ad1",
   "metadata": {},
   "source": [
    "* **Declaring Docstrings:-** \n",
    "    * The docstrings are declared using ”’triple single quotes”’ or “”” triple double quotes “”” just below the class, method, or function declaration. All functions should have a docstring.\n",
    "* **Accessing Docstrings:-**\n",
    "    * The docstrings can be accessed using the __doc__ method of the object or using the help function. The below examples demonstrate how to declare and access a docstring."
   ]
  },
  {
   "cell_type": "code",
   "execution_count": 21,
   "id": "103cf73e",
   "metadata": {},
   "outputs": [],
   "source": [
    "def intro(n,d):\n",
    "    '''\n",
    "    My name is Harshit Shrivastava.\n",
    "    My age is 22 year.\n",
    "    '''\n",
    "    print(n/d)"
   ]
  },
  {
   "cell_type": "code",
   "execution_count": 22,
   "id": "a5c2ab99",
   "metadata": {
    "scrolled": true
   },
   "outputs": [
    {
     "name": "stdout",
     "output_type": "stream",
     "text": [
      "\n",
      "    My name is Harshit Shrivastava.\n",
      "    My age is 22 year.\n",
      "    \n"
     ]
    }
   ],
   "source": [
    "print(intro.__doc__)"
   ]
  },
  {
   "cell_type": "code",
   "execution_count": 25,
   "id": "f1f32a9b",
   "metadata": {},
   "outputs": [],
   "source": [
    "def fooCocataenationOfString(s1 : str, s2 = '', n = 2):\n",
    "    print((s1+s2)*n)"
   ]
  },
  {
   "cell_type": "code",
   "execution_count": 26,
   "id": "9b29cd6f",
   "metadata": {},
   "outputs": [
    {
     "name": "stdout",
     "output_type": "stream",
     "text": [
      "helloharshhelloharsh\n"
     ]
    }
   ],
   "source": [
    "fooCocataenationOfString('hello', s2 = 'harsh')"
   ]
  }
 ],
 "metadata": {
  "kernelspec": {
   "display_name": "Python 3 (ipykernel)",
   "language": "python",
   "name": "python3"
  },
  "language_info": {
   "codemirror_mode": {
    "name": "ipython",
    "version": 3
   },
   "file_extension": ".py",
   "mimetype": "text/x-python",
   "name": "python",
   "nbconvert_exporter": "python",
   "pygments_lexer": "ipython3",
   "version": "3.11.5"
  }
 },
 "nbformat": 4,
 "nbformat_minor": 5
}
